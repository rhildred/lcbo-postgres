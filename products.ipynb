{
 "cells": [
  {
   "cell_type": "markdown",
   "id": "d0bd03b2",
   "metadata": {},
   "source": [
    "# Products\n",
    "\n",
    "A notebook to get the products and print them"
   ]
  },
  {
   "cell_type": "code",
   "execution_count": 3,
   "id": "504898c5",
   "metadata": {},
   "outputs": [
    {
     "name": "stdout",
     "output_type": "stream",
     "text": [
      "Connected to PostgreSQL database successfully!\n"
     ]
    }
   ],
   "source": [
    "import psycopg2\n",
    "import pandas as pd\n",
    "\n",
    "try:\n",
    "    conn = psycopg2.connect(\n",
    "        host=\"localhost\",\n",
    "        database=\"lcbo\",\n",
    "        user=\"lcbo\",\n",
    "        password=\"Secret5555\"\n",
    "    )\n",
    "    print(\"Connected to PostgreSQL database successfully!\")\n",
    "except Exception as e:\n",
    "    print(f\"Error connecting to database: {e}\")"
   ]
  },
  {
   "cell_type": "code",
   "execution_count": 4,
   "id": "ec195742",
   "metadata": {},
   "outputs": [
    {
     "name": "stdout",
     "output_type": "stream",
     "text": [
      "       id  crawl_id  is_dead  \\\n",
      "0  703066      2809    False   \n",
      "1  633594      2809    False   \n",
      "2  132324       348     True   \n",
      "3  142844      2809    False   \n",
      "4  479923      2809    False   \n",
      "\n",
      "                                                name  \\\n",
      "0                                San León Manzanilla   \n",
      "1                            Smoking Loon Chardonnay   \n",
      "2                                        Brava Light   \n",
      "3  Stags' Leap Estate the Leap Cabernet Sauvignon...   \n",
      "4                   Stalk & Barrel Blue Blend Whisky   \n",
      "\n",
      "                                                tags  is_discontinued  \\\n",
      "0  san león manzanilla wine fortified wines spain...            False   \n",
      "1  smoking loon chardonnay wine white usa califor...            False   \n",
      "2  brava light beer lager ontario canada labatt b...             True   \n",
      "3  stags' stags leap estate the cabernet sauvigno...            False   \n",
      "4  stalk barrel blue blend whisky spirits whiskyw...            False   \n",
      "\n",
      "   price_in_cents  regular_price_in_cents  \\\n",
      "0            2195                    2195   \n",
      "1            1495                    1495   \n",
      "2            2995                    2995   \n",
      "3           11995                   11995   \n",
      "4            2895                    2895   \n",
      "\n",
      "   limited_time_offer_savings_in_cents limited_time_offer_ends_on  ...  \\\n",
      "0                                    0                       None  ...   \n",
      "1                                    0                       None  ...   \n",
      "2                                    0                       None  ...   \n",
      "3                                    0                       None  ...   \n",
      "4                                    0                       None  ...   \n",
      "\n",
      "            scc style_flavour   style_body value_added_promotion_ends_on  \\\n",
      "0  1.841188e+13          None         None                          None   \n",
      "1  1.001744e+13          Rich  Full-bodied                          None   \n",
      "2           NaN          None         None                          None   \n",
      "3  8.981901e+10        Smooth  Full-bodied                          None   \n",
      "4  1.087779e+13          None         None                          None   \n",
      "\n",
      "  data_source producer_id category_ids  \\\n",
      "0           0      6974.0  [4, 25, 59]   \n",
      "1           0       946.0       [4, 5]   \n",
      "2           0        35.0       [1, 2]   \n",
      "3           0       112.0      [4, 11]   \n",
      "4           0      1523.0    [6, 7, 8]   \n",
      "\n",
      "                                     category  is_ocb  catalog_refs  \n",
      "0               Wine, Fortified Wines, Sherry   False        [1, 2]  \n",
      "1                            Wine, White Wine   False        [1, 3]  \n",
      "2                                 Beer, Lager   False        [1, 3]  \n",
      "3                              Wine, Red Wine   False        [1, 2]  \n",
      "4  Spirits, Whisky / Whiskey, Canadian Whisky   False        [1, 3]  \n",
      "\n",
      "[5 rows x 63 columns]\n"
     ]
    }
   ],
   "source": [
    "if 'conn' in locals() and conn: # Check if connection was successful\n",
    "    try:\n",
    "        cur = conn.cursor()\n",
    "        cur.execute(\"SELECT * FROM products;\") # Replace with your table name\n",
    "        rows = cur.fetchall()\n",
    "\n",
    "        # Process or display results\n",
    "        df = pd.DataFrame(rows, columns=[desc[0] for desc in cur.description])\n",
    "        print(df.head()) # Display first few rows of the DataFrame\n",
    "\n",
    "    except Exception as e:\n",
    "        print(f\"Error executing query: {e}\")\n",
    "    finally:\n",
    "        if 'cur' in locals() and cur:\n",
    "            cur.close()"
   ]
  }
 ],
 "metadata": {
  "kernelspec": {
   "display_name": "Python 3",
   "language": "python",
   "name": "python3"
  },
  "language_info": {
   "codemirror_mode": {
    "name": "ipython",
    "version": 3
   },
   "file_extension": ".py",
   "mimetype": "text/x-python",
   "name": "python",
   "nbconvert_exporter": "python",
   "pygments_lexer": "ipython3",
   "version": "3.12.1"
  }
 },
 "nbformat": 4,
 "nbformat_minor": 5
}
